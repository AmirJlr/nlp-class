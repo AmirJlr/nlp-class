{
  "cells": [
    {
      "cell_type": "markdown",
      "metadata": {
        "id": "view-in-github",
        "colab_type": "text"
      },
      "source": [
        "<a href=\"https://colab.research.google.com/github/AmirJlr/nlp-class/blob/master/my_homeworks/HW1/hw1.ipynb\" target=\"_parent\"><img src=\"https://colab.research.google.com/assets/colab-badge.svg\" alt=\"Open In Colab\"/></a>"
      ]
    },
    {
      "cell_type": "code",
      "source": [
        "import requests\n",
        "import re\n",
        "import nltk\n",
        "import matplotlib.pyplot as plt\n",
        "import pandas as pd\n"
      ],
      "metadata": {
        "id": "gTtCHueR70uI"
      },
      "execution_count": 20,
      "outputs": []
    },
    {
      "cell_type": "code",
      "source": [
        "# Project Gutenberg's The Problems of Philosophy, by Bertrand Russell\n",
        "\n",
        "Problems_Philosophy = 'http://www.gutenberg.org/cache/epub/5827/pg5827.txt'\n",
        "Bertrand = requests.get(Problems_Philosophy)"
      ],
      "metadata": {
        "id": "4KPDshQ-8FC_"
      },
      "execution_count": 3,
      "outputs": []
    },
    {
      "cell_type": "code",
      "source": [
        "print('\\n')\n",
        "print('Status code :', str(Bertrand.status_code))\n",
        "print('------------------------------------')\n",
        "print(f\"Len is {len(Bertrand.text)}\")\n",
        "print('------------------------------------')\n"
      ],
      "metadata": {
        "colab": {
          "base_uri": "https://localhost:8080/"
        },
        "id": "uZM9KLJK8dPr",
        "outputId": "2ead39a5-a0fa-44cf-e54a-3e9ee5da023f"
      },
      "execution_count": 4,
      "outputs": [
        {
          "output_type": "stream",
          "name": "stdout",
          "text": [
            "\n",
            "\n",
            "Status code : 200\n",
            "------------------------------------\n",
            "Len is 269460\n",
            "------------------------------------\n"
          ]
        }
      ]
    },
    {
      "cell_type": "markdown",
      "source": [
        "# Part 1: Regular Expressions"
      ],
      "metadata": {
        "id": "8XhmGfLP8w-z"
      }
    },
    {
      "cell_type": "code",
      "source": [
        "text_Bertrand = Bertrand.text\n",
        "expression = 'philosophy'"
      ],
      "metadata": {
        "id": "5OEGoWmE84ab"
      },
      "execution_count": 5,
      "outputs": []
    },
    {
      "cell_type": "code",
      "source": [
        "results = re.search(expression, text_Bertrand)"
      ],
      "metadata": {
        "id": "AIieZKV484dH"
      },
      "execution_count": 6,
      "outputs": []
    },
    {
      "cell_type": "code",
      "source": [
        "print('\\n')\n",
        "print('--------------------------------------------------------')\n",
        "print('Results')\n",
        "print('--------------------------------------------------------')\n",
        "print('A match for the search query: \"' + results.group() + '\"\\nwas found at the following character span: ' + str(results.span()))\n",
        "print('--------------------------------------------------------')\n",
        "print('\\n')"
      ],
      "metadata": {
        "colab": {
          "base_uri": "https://localhost:8080/"
        },
        "id": "QGMBNNMa84gt",
        "outputId": "1c9cee2c-3eed-45e6-d2c4-70e0a0211c87"
      },
      "execution_count": 7,
      "outputs": [
        {
          "output_type": "stream",
          "name": "stdout",
          "text": [
            "\n",
            "\n",
            "--------------------------------------------------------\n",
            "Results\n",
            "--------------------------------------------------------\n",
            "A match for the search query: \"philosophy\"\n",
            "was found at the following character span: (764, 774)\n",
            "--------------------------------------------------------\n",
            "\n",
            "\n"
          ]
        }
      ]
    },
    {
      "cell_type": "code",
      "source": [
        "result1 =[]\n",
        "\n",
        "for match in re.finditer(expression, text_Bertrand):\n",
        "    result1.append(\n",
        "    {\n",
        "        'indices':match.span(),\n",
        "        'exprission':match.group()\n",
        "    }\n",
        ")\n",
        "    \n",
        "    \n",
        "print(f\"Matches number : {len(result1)}\")   "
      ],
      "metadata": {
        "colab": {
          "base_uri": "https://localhost:8080/"
        },
        "id": "ep-e_TDK9Nfp",
        "outputId": "bfc06674-095a-4e3b-8ef2-2bdf990f67ae"
      },
      "execution_count": 8,
      "outputs": [
        {
          "output_type": "stream",
          "name": "stdout",
          "text": [
            "Matches number : 72\n"
          ]
        }
      ]
    },
    {
      "cell_type": "code",
      "source": [
        "result1"
      ],
      "metadata": {
        "colab": {
          "base_uri": "https://localhost:8080/"
        },
        "id": "6gUGBHia9VTt",
        "outputId": "54d988c6-1e3d-4182-ce79-fbe52bd625cd"
      },
      "execution_count": 9,
      "outputs": [
        {
          "output_type": "execute_result",
          "data": {
            "text/plain": [
              "[{'indices': (764, 774), 'exprission': 'philosophy'},\n",
              " {'indices': (1833, 1843), 'exprission': 'philosophy'},\n",
              " {'indices': (1849, 1859), 'exprission': 'philosophy'},\n",
              " {'indices': (5109, 5119), 'exprission': 'philosophy'},\n",
              " {'indices': (19891, 19901), 'exprission': 'philosophy'},\n",
              " {'indices': (21170, 21180), 'exprission': 'philosophy'},\n",
              " {'indices': (33483, 33493), 'exprission': 'philosophy'},\n",
              " {'indices': (33560, 33570), 'exprission': 'philosophy'},\n",
              " {'indices': (33849, 33859), 'exprission': 'philosophy'},\n",
              " {'indices': (50321, 50331), 'exprission': 'philosophy'},\n",
              " {'indices': (54760, 54770), 'exprission': 'philosophy'},\n",
              " {'indices': (103297, 103307), 'exprission': 'philosophy'},\n",
              " {'indices': (109118, 109128), 'exprission': 'philosophy'},\n",
              " {'indices': (122400, 122410), 'exprission': 'philosophy'},\n",
              " {'indices': (122529, 122539), 'exprission': 'philosophy'},\n",
              " {'indices': (125952, 125962), 'exprission': 'philosophy'},\n",
              " {'indices': (126061, 126071), 'exprission': 'philosophy'},\n",
              " {'indices': (130439, 130449), 'exprission': 'philosophy'},\n",
              " {'indices': (137039, 137049), 'exprission': 'philosophy'},\n",
              " {'indices': (137797, 137807), 'exprission': 'philosophy'},\n",
              " {'indices': (141982, 141992), 'exprission': 'philosophy'},\n",
              " {'indices': (142856, 142866), 'exprission': 'philosophy'},\n",
              " {'indices': (143182, 143192), 'exprission': 'philosophy'},\n",
              " {'indices': (187623, 187633), 'exprission': 'philosophy'},\n",
              " {'indices': (217060, 217070), 'exprission': 'philosophy'},\n",
              " {'indices': (217606, 217616), 'exprission': 'philosophy'},\n",
              " {'indices': (218230, 218240), 'exprission': 'philosophy'},\n",
              " {'indices': (218493, 218503), 'exprission': 'philosophy'},\n",
              " {'indices': (231308, 231318), 'exprission': 'philosophy'},\n",
              " {'indices': (231368, 231378), 'exprission': 'philosophy'},\n",
              " {'indices': (231474, 231484), 'exprission': 'philosophy'},\n",
              " {'indices': (232593, 232603), 'exprission': 'philosophy'},\n",
              " {'indices': (233131, 233141), 'exprission': 'philosophy'},\n",
              " {'indices': (233425, 233435), 'exprission': 'philosophy'},\n",
              " {'indices': (233545, 233555), 'exprission': 'philosophy'},\n",
              " {'indices': (233816, 233826), 'exprission': 'philosophy'},\n",
              " {'indices': (234323, 234333), 'exprission': 'philosophy'},\n",
              " {'indices': (234555, 234565), 'exprission': 'philosophy'},\n",
              " {'indices': (235193, 235203), 'exprission': 'philosophy'},\n",
              " {'indices': (235369, 235379), 'exprission': 'philosophy'},\n",
              " {'indices': (235447, 235457), 'exprission': 'philosophy'},\n",
              " {'indices': (235666, 235676), 'exprission': 'philosophy'},\n",
              " {'indices': (235850, 235860), 'exprission': 'philosophy'},\n",
              " {'indices': (235992, 236002), 'exprission': 'philosophy'},\n",
              " {'indices': (236350, 236360), 'exprission': 'philosophy'},\n",
              " {'indices': (236378, 236388), 'exprission': 'philosophy'},\n",
              " {'indices': (236439, 236449), 'exprission': 'philosophy'},\n",
              " {'indices': (236606, 236616), 'exprission': 'philosophy'},\n",
              " {'indices': (236725, 236735), 'exprission': 'philosophy'},\n",
              " {'indices': (237387, 237397), 'exprission': 'philosophy'},\n",
              " {'indices': (237505, 237515), 'exprission': 'philosophy'},\n",
              " {'indices': (237868, 237878), 'exprission': 'philosophy'},\n",
              " {'indices': (238560, 238570), 'exprission': 'philosophy'},\n",
              " {'indices': (238691, 238701), 'exprission': 'philosophy'},\n",
              " {'indices': (238775, 238785), 'exprission': 'philosophy'},\n",
              " {'indices': (238849, 238859), 'exprission': 'philosophy'},\n",
              " {'indices': (238890, 238900), 'exprission': 'philosophy'},\n",
              " {'indices': (238988, 238998), 'exprission': 'philosophy'},\n",
              " {'indices': (239235, 239245), 'exprission': 'philosophy'},\n",
              " {'indices': (239324, 239334), 'exprission': 'philosophy'},\n",
              " {'indices': (239976, 239986), 'exprission': 'philosophy'},\n",
              " {'indices': (240137, 240147), 'exprission': 'philosophy'},\n",
              " {'indices': (240278, 240288), 'exprission': 'philosophy'},\n",
              " {'indices': (240616, 240626), 'exprission': 'philosophy'},\n",
              " {'indices': (241278, 241288), 'exprission': 'philosophy'},\n",
              " {'indices': (241368, 241378), 'exprission': 'philosophy'},\n",
              " {'indices': (241511, 241521), 'exprission': 'philosophy'},\n",
              " {'indices': (241613, 241623), 'exprission': 'philosophy'},\n",
              " {'indices': (242858, 242868), 'exprission': 'philosophy'},\n",
              " {'indices': (249062, 249072), 'exprission': 'philosophy'},\n",
              " {'indices': (249535, 249545), 'exprission': 'philosophy'},\n",
              " {'indices': (249777, 249787), 'exprission': 'philosophy'}]"
            ]
          },
          "metadata": {},
          "execution_count": 9
        }
      ]
    },
    {
      "cell_type": "code",
      "source": [
        "expression2 = '(p|P)hilosophy'\n",
        "\n",
        "result2 =[]\n",
        "for match in re.finditer(expression2, text_Bertrand):\n",
        "    result2.append(\n",
        "    {\n",
        "        'indices':match.span(),\n",
        "        'exprission':match.group()\n",
        "    }\n",
        ")\n",
        "    \n",
        "    \n",
        "print(f\"Matches number : {len(result2)}\")  "
      ],
      "metadata": {
        "colab": {
          "base_uri": "https://localhost:8080/"
        },
        "id": "TQsZbrlY9XSo",
        "outputId": "b32695bf-bd83-4a55-9f1f-c09ee05ac5b5"
      },
      "execution_count": 10,
      "outputs": [
        {
          "output_type": "stream",
          "name": "stdout",
          "text": [
            "Matches number : 81\n"
          ]
        }
      ]
    },
    {
      "cell_type": "markdown",
      "source": [
        "# Learning Exercise 1:\n",
        "## Worth 1/5 Points\n",
        "Now I'm curious how Bertrand used these various philosophical terms in his sentences, and how Bertrand's language, more generally, compares to Friedrich Nietzsche and other philosophers. You're going to help me with that!"
      ],
      "metadata": {
        "id": "DSu2fjK_9lI7"
      }
    },
    {
      "cell_type": "markdown",
      "source": [
        "## A. Download Data\n",
        "Use Python's requests library to collect Friedrich Nietzsche's book, <a href='http://www.gutenberg.org/cache/epub/4363/pg4363.txt'>Beyond Good and Evil</a> into Python. Collect one additional work of philosophy (of your choice) and import it as well."
      ],
      "metadata": {
        "id": "MmRYKuwh9tN_"
      }
    },
    {
      "cell_type": "code",
      "source": [
        "Good_and_Evil = 'http://www.gutenberg.org/cache/epub/4363/pg4363.txt'\n",
        "Nietzsche = requests.get(Good_and_Evil)"
      ],
      "metadata": {
        "id": "x1b72dF89762"
      },
      "execution_count": 11,
      "outputs": []
    },
    {
      "cell_type": "code",
      "source": [
        "text_Nietzsche = Nietzsche.text"
      ],
      "metadata": {
        "id": "6pzowrCf-QVh"
      },
      "execution_count": 12,
      "outputs": []
    },
    {
      "cell_type": "code",
      "source": [
        "expression = '(P|p)hilo(?!nous)[a-z]+'"
      ],
      "metadata": {
        "id": "FeYz4TPk-39G"
      },
      "execution_count": 13,
      "outputs": []
    },
    {
      "cell_type": "code",
      "source": [
        "result_Bertrand =[]\n",
        "for match in re.finditer(expression, text_Bertrand):\n",
        "    result_Bertrand.append(\n",
        "    {\n",
        "        'indices':match.span(),\n",
        "        'match':match.group()\n",
        "    }\n",
        ")\n",
        "\n",
        "matches_Bertrand = []; [matches_Bertrand.append(m['match']) for m in result_Bertrand];\n",
        "    \n",
        "print(f\"Bertrand Matches number : {len(result_Bertrand)}\")  "
      ],
      "metadata": {
        "colab": {
          "base_uri": "https://localhost:8080/"
        },
        "id": "b_CdUEOV_Bn8",
        "outputId": "08f893ca-7342-4bdd-b4b2-136d0edd601b"
      },
      "execution_count": 14,
      "outputs": [
        {
          "output_type": "stream",
          "name": "stdout",
          "text": [
            "Bertrand Matches number : 151\n"
          ]
        }
      ]
    },
    {
      "cell_type": "code",
      "source": [
        "result_Nietzsche =[]\n",
        "for match in re.finditer(expression, text_Nietzsche):\n",
        "    result_Nietzsche.append(\n",
        "    {\n",
        "        'indices':match.span(),\n",
        "        'match':match.group()\n",
        "    }\n",
        ")\n",
        "\n",
        "matches_Nietzsche = []; [matches_Nietzsche.append(m['match']) for m in result_Nietzsche];\n",
        "    \n",
        "print(f\"Nietzsche Matches number : {len(result_Nietzsche)}\")  "
      ],
      "metadata": {
        "colab": {
          "base_uri": "https://localhost:8080/"
        },
        "id": "HCGGziQJ-V-b",
        "outputId": "0a293216-dedf-4cc9-ec94-77602ec7ba2a"
      },
      "execution_count": 15,
      "outputs": [
        {
          "output_type": "stream",
          "name": "stdout",
          "text": [
            "Nietzsche Matches number : 221\n"
          ]
        }
      ]
    },
    {
      "cell_type": "code",
      "source": [
        "def CountFrequency(my_list): \n",
        "  \n",
        "    # Creating an empty dictionary  \n",
        "    freq = {} \n",
        "    for item in my_list: \n",
        "        if (item in freq): \n",
        "            freq[item] += 1\n",
        "        else: \n",
        "            freq[item] = 1\n",
        "    return freq"
      ],
      "metadata": {
        "id": "QSrY86PWAFVj"
      },
      "execution_count": 16,
      "outputs": []
    },
    {
      "cell_type": "code",
      "source": [],
      "metadata": {
        "id": "JKkZtEsMBLGH"
      },
      "execution_count": 16,
      "outputs": []
    },
    {
      "cell_type": "code",
      "source": [
        "print('Bertrand :')\n",
        "print('\\n')\n",
        "print('--------------------------------------------------------')\n",
        "print('Results')\n",
        "print('--------------------------------------------------------')\n",
        "print('We found ' +  str(len(matches_Bertrand)) + ' matches...\\n')\n",
        "print(str(matches_Bertrand))\n",
        "print('--------------------------------------------------------')\n",
        "print('We found ' +  str(len(set(matches_Bertrand))) + ' distinct terms...\\n')\n",
        "print(CountFrequency(matches_Bertrand))\n",
        "print('--------------------------------------------------------')\n",
        "print('\\n')"
      ],
      "metadata": {
        "colab": {
          "base_uri": "https://localhost:8080/"
        },
        "id": "4ZMrQFhGA5Ca",
        "outputId": "a3222047-159e-4be5-f11c-a7e2f016629d"
      },
      "execution_count": 17,
      "outputs": [
        {
          "output_type": "stream",
          "name": "stdout",
          "text": [
            "Bertrand :\n",
            "\n",
            "\n",
            "--------------------------------------------------------\n",
            "Results\n",
            "--------------------------------------------------------\n",
            "We found 151 matches...\n",
            "\n",
            "['Philosophy', 'Philosophy', 'philosophy', 'philosophers', 'philosophy', 'philosophy', 'philosophy', 'philosopher', 'philosopher', 'philosopher', 'philosophers', 'philosophers', 'philosophers', 'philosophers', 'philosophers', 'philosophers', 'Philosophy', 'philosophy', 'philosophy', 'philosopher', 'philosophical', 'Philosophy', 'philosophy', 'philosophers', 'philosophy', 'philosophy', 'philosophical', 'philosopher', 'philosophical', 'philosophers', 'philosophers', 'philosophers', 'philosophers', 'philosophy', 'philosophical', 'philosopher', 'philosophy', 'philosopher', 'philosophy', 'philosopher', 'philosophy', 'philosophers', 'philosophers', 'philosophers', 'philosophers', 'philosopher', 'philosophers', 'philosophy', 'philosophy', 'philosophical', 'philosophers', 'philosophy', 'philosophy', 'philosophers', 'philosophy', 'philosophers', 'philosophers', 'philosophy', 'philosophy', 'philosophy', 'philosophy', 'philosophers', 'philosophy', 'philosophers', 'philosophies', 'philosophers', 'philosophical', 'philosopher', 'philosophers', 'philosophers', 'philosophers', 'philosophy', 'philosophical', 'philosophy', 'philosophers', 'philosophers', 'philosophy', 'philosophy', 'philosophy', 'philosophers', 'philosophers', 'philosophers', 'philosophers', 'Philosophical', 'philosophy', 'philosophy', 'philosophy', 'philosophers', 'philosophy', 'philosophy', 'philosophy', 'philosophy', 'philosophy', 'philosophical', 'philosophy', 'philosophy', 'Philosophy', 'philosophy', 'philosophy', 'philosophy', 'philosophy', 'philosophy', 'philosophy', 'philosophy', 'philosophy', 'philosophy', 'philosophy', 'philosophy', 'philosophy', 'philosophy', 'Philosophy', 'philosophy', 'philosopher', 'philosophy', 'philosophy', 'philosophy', 'philosophy', 'philosophy', 'philosophy', 'philosophy', 'philosophy', 'philosophy', 'philosophers', 'philosophy', 'philosophy', 'philosophers', 'philosophy', 'philosophical', 'philosophy', 'philosophy', 'philosophy', 'philosophy', 'philosophize', 'Philosophy', 'philosophy', 'philosophic', 'philosophic', 'Philosophic', 'Philosophic', 'philosophic', 'philosophies', 'philosophical', 'philosophic', 'philosophic', 'philosophic', 'philosophy', 'Philosophy', 'philosophy', 'philosophy', 'philosophers', 'Philosophy']\n",
            "--------------------------------------------------------\n",
            "We found 10 distinct terms...\n",
            "\n",
            "{'Philosophy': 9, 'philosophy': 72, 'philosophers': 37, 'philosopher': 11, 'philosophical': 10, 'philosophies': 2, 'Philosophical': 1, 'philosophize': 1, 'philosophic': 6, 'Philosophic': 2}\n",
            "--------------------------------------------------------\n",
            "\n",
            "\n"
          ]
        }
      ]
    },
    {
      "cell_type": "code",
      "source": [
        "print('Nietzsche :')\n",
        "print('\\n')\n",
        "print('--------------------------------------------------------')\n",
        "print('Results')\n",
        "print('--------------------------------------------------------')\n",
        "print('We found ' +  str(len(matches_Nietzsche)) + ' matches...\\n')\n",
        "print(str(matches_Nietzsche))\n",
        "print('--------------------------------------------------------')\n",
        "print('We found ' +  str(len(set(matches_Nietzsche))) + ' distinct terms...\\n')\n",
        "print(CountFrequency(matches_Nietzsche))\n",
        "print('--------------------------------------------------------')\n",
        "print('\\n')"
      ],
      "metadata": {
        "colab": {
          "base_uri": "https://localhost:8080/"
        },
        "id": "ItDswPESBMTB",
        "outputId": "b3d814bd-9538-49d6-884f-760378778ace"
      },
      "execution_count": 18,
      "outputs": [
        {
          "output_type": "stream",
          "name": "stdout",
          "text": [
            "Nietzsche :\n",
            "\n",
            "\n",
            "--------------------------------------------------------\n",
            "Results\n",
            "--------------------------------------------------------\n",
            "We found 221 matches...\n",
            "\n",
            "['philosophers', 'philosophy', 'philosophical', 'philosophy', 'philosophy', 'philosophers', 'philosophers', 'philosophers', 'philosophers', 'philosophers', 'philosophical', 'philosopher', 'philosophy', 'philosophers', 'philosophy', 'philosophy', 'philosophy', 'philosopher', 'philosophy', 'philosophy', 'philosophize', 'philologist', 'philosopher', 'philosophers', 'philosophy', 'philosopher', 'philosophy', 'philosophy', 'philosophasters', 'philosophy', 'philosophy', 'philosophy', 'philosophy', 'philosophy', 'philosophy', 'philosophy', 'philosopher', 'philosopher', 'philosopher', 'philosopher', 'Philosophers', 'philosophers', 'philosophers', 'philosophical', 'philosopher', 'philosophical', 'philosophers', 'philosophies', 'philosophizing', 'philosophizing', 'philosophy', 'philosophical', 'philosophers', 'philosophers', 'philologist', 'philology', 'philosophers', 'philosopher', 'philosopher', 'philosophical', 'philosopher', 'philosopher', 'philosophy', 'philosopher', 'philosophers', 'philosopher', 'philosophized', 'philosophy', 'philosophers', 'philosopher', 'philosophers', 'philosophers', 'philosopher', 'philosophy', 'philosophers', 'philosopher', 'philosopher', 'philosophy', 'philosopher', 'philosophe', 'philosophie', 'philosophers', 'philosophers', 'philosophers', 'philosophers', 'philosopher', 'philosophers', 'philosophers', 'philosophers', 'philosophical', 'philosophers', 'philosophy', 'philosopher', 'philosophers', 'philology', 'philosophy', 'philosophers', 'philosophy', 'philosophy', 'philosophy', 'philosophers', 'philosopher', 'philosophy', 'philosopher', 'philosophers', 'philosopher', 'philosophers', 'philosophers', 'philosopher', 'philosophical', 'philosophy', 'philosopher', 'philosophers', 'philosophasters', 'philosopher', 'philosophy', 'philosophy', 'philosophy', 'philosophy', 'philosophers', 'philologists', 'philosopher', 'philosophy', 'philosophers', 'philosophy', 'philosophy', 'philosopher', 'philosophers', 'philosophy', 'philosophers', 'philosophy', 'philosophy', 'philosophers', 'philosophers', 'philosophy', 'philosophy', 'philosophy', 'Philosophy', 'philosophy', 'philosophy', 'philosophy', 'philosopher', 'philosopher', 'philosophical', 'philosopher', 'philosopher', 'philosopher', 'philosopher', 'philosophically', 'philosopher', 'philosopher', 'philologists', 'philosophy', 'philosophers', 'philosophers', 'philosophers', 'philosophy', 'philosophy', 'philosophy', 'philosophers', 'philosopher', 'philosophers', 'philosophical', 'philosophers', 'philosopher', 'philosophy', 'philosophical', 'philosophical', 'philosophers', 'philosophers', 'philosophers', 'philosopher', 'philosophers', 'philosopher', 'philosophers', 'philosopher', 'philosopher', 'philosopher', 'philosopher', 'philosophical', 'philosophical', 'philosophy', 'philosopher', 'philosophy', 'philosophers', 'philosophers', 'philosophy', 'philosophy', 'philosophizing', 'philosophers', 'philosophy', 'philosophical', 'philosophers', 'philosophical', 'philosophical', 'philosopher', 'philosophy', 'philosophy', 'philosophical', 'philosophy', 'philosophers', 'philosopher', 'philosopher', 'philosopher', 'philosopher', 'philosophy', 'philosophy', 'philosophy', 'philosophy', 'philosopher', 'philosopher', 'philosophical', 'philosopher', 'philosophers', 'philosophize', 'philosophy', 'philosophy', 'philosopher', 'philosophize', 'philosophers', 'philosopher']\n",
            "--------------------------------------------------------\n",
            "We found 17 distinct terms...\n",
            "\n",
            "{'philosophers': 58, 'philosophy': 66, 'philosophical': 19, 'philosopher': 57, 'philosophize': 3, 'philologist': 2, 'philosophasters': 2, 'Philosophers': 1, 'philosophies': 1, 'philosophizing': 3, 'philology': 2, 'philosophized': 1, 'philosophe': 1, 'philosophie': 1, 'philologists': 2, 'Philosophy': 1, 'philosophically': 1}\n",
            "--------------------------------------------------------\n",
            "\n",
            "\n"
          ]
        }
      ]
    },
    {
      "cell_type": "code",
      "source": [
        "df_Bertrand = pd.DataFrame(CountFrequency(matches_Bertrand), index=[0]).T"
      ],
      "metadata": {
        "id": "Kuplj8xcLz7F"
      },
      "execution_count": 29,
      "outputs": []
    },
    {
      "cell_type": "code",
      "source": [
        "df_Nietzsche = pd.DataFrame(CountFrequency(matches_Nietzsche), index=[0]).T"
      ],
      "metadata": {
        "id": "Q0GlToGfKA24"
      },
      "execution_count": 26,
      "outputs": []
    },
    {
      "cell_type": "code",
      "source": [
        "\n",
        "df_Bertrand.plot(kind='bar')\n",
        "\n",
        "df_Nietzsche.plot(kind='bar')"
      ],
      "metadata": {
        "id": "VO8KddK8KFK-",
        "outputId": "5619c64e-b5ed-45b1-f92b-ed13a5cb0cc2",
        "colab": {
          "base_uri": "https://localhost:8080/",
          "height": 655
        }
      },
      "execution_count": 31,
      "outputs": [
        {
          "output_type": "execute_result",
          "data": {
            "text/plain": [
              "<Axes: >"
            ]
          },
          "metadata": {},
          "execution_count": 31
        },
        {
          "output_type": "display_data",
          "data": {
            "text/plain": [
              "<Figure size 432x288 with 1 Axes>"
            ],
            "image/png": "[encoded data removed]"
          },
          "metadata": {
            "needs_background": "light"
          }
        },
        {
          "output_type": "display_data",
          "data": {
            "text/plain": [
              "<Figure size 432x288 with 1 Axes>"
            ],
            "image/png": "[encoded data removed]"
          },
          "metadata": {
            "needs_background": "light"
          }
        }
      ]
    },
    {
      "cell_type": "markdown",
      "source": [
        "## B. Basic Text Cleansing\n",
        "Use re.sub to do some basic text cleansing on books you downloaded. More specifically:\n",
        "\n",
        "replace the various forms of whitespace that appear (\\n,\\r,\\t etc.) with a single whitespace character.\n",
        "cast all text to lower case\n",
        "replace common abbreviations with their full form, for instance: it's with it is\n",
        "Note that item #3 does not have to be comprehensive, just do a couple common abbreviations to illustrate that you know how to do this."
      ],
      "metadata": {
        "id": "PG7NDp_BOLxo"
      }
    },
    {
      "cell_type": "code",
      "source": [],
      "metadata": {
        "id": "Bxkdf2PPLjF6"
      },
      "execution_count": null,
      "outputs": []
    }
  ],
  "metadata": {
    "colab": {
      "name": "Welcome To Colaboratory",
      "provenance": [],
      "include_colab_link": true
    },
    "kernelspec": {
      "display_name": "Python 3",
      "name": "python3"
    }
  },
  "nbformat": 4,
  "nbformat_minor": 0
}