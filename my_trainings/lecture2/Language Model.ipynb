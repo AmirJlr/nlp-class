{
 "cells": [
  {
   "cell_type": "code",
   "execution_count": 1,
   "id": "7f6e63a7",
   "metadata": {},
   "outputs": [],
   "source": [
    "import nltk\n",
    "from nltk.util import ngrams"
   ]
  },
  {
   "cell_type": "code",
   "execution_count": 2,
   "id": "4c2d3da8",
   "metadata": {},
   "outputs": [],
   "source": [
    "data = \"\"\"a fish keeps for a day; a fish keeps well if you put it in a cold place. \n",
    "          a fish keeps best if you put it in the fridge. If you’ll be having fish, \n",
    "          have it with an apple because one apple a day keeps the doctor away! \n",
    "          You know they also say that a day keeps coming.\"\"\""
   ]
  },
  {
   "cell_type": "code",
   "execution_count": 8,
   "id": "9df09ef1",
   "metadata": {},
   "outputs": [],
   "source": [
    "def gram_extractor(data, num):\n",
    "    n_grams = ngrams(nltk.word_tokenize(data), num)\n",
    "    return [\" \".join(gram) for gram in n_grams]"
   ]
  },
  {
   "cell_type": "code",
   "execution_count": 13,
   "id": "5d848417",
   "metadata": {},
   "outputs": [
    {
     "name": "stdout",
     "output_type": "stream",
     "text": [
      "\n",
      "Word-Level:\n",
      "1-gram:  ['a', 'fish', 'keeps', 'for', 'a', 'day', ';', 'a', 'fish', 'keeps']\n",
      "\n",
      "2-gram:  ['a fish', 'fish keeps', 'keeps for', 'for a', 'a day', 'day ;', '; a', 'a fish', 'fish keeps', 'keeps well']\n",
      "\n",
      "3-gram:  ['a fish keeps', 'fish keeps for', 'keeps for a', 'for a day', 'a day ;', 'day ; a', '; a fish', 'a fish keeps', 'fish keeps well', 'keeps well if']\n",
      "\n",
      "4-gram:  ['a fish keeps for', 'fish keeps for a', 'keeps for a day', 'for a day ;', 'a day ; a', 'day ; a fish', '; a fish keeps', 'a fish keeps well', 'fish keeps well if', 'keeps well if you']\n"
     ]
    }
   ],
   "source": [
    "# printing the first 5 tokens after gramification\n",
    "print(\"\\nWord-Level:\")\n",
    "print(\"1-gram: \", gram_extractor(data, 1)[0:10])\n",
    "print()\n",
    "print(\"2-gram: \", gram_extractor(data, 2)[0:10])\n",
    "print()\n",
    "print(\"3-gram: \", gram_extractor(data, 3)[0:10])\n",
    "print()\n",
    "print(\"4-gram: \", gram_extractor(data, 4)[0:10])"
   ]
  },
  {
   "cell_type": "code",
   "execution_count": 14,
   "id": "9381e546",
   "metadata": {},
   "outputs": [],
   "source": [
    "def char_gram_extractor(data, num):\n",
    "    n_grams = ngrams(data, num)\n",
    "    return [' '.join(gram) for gram in n_grams]"
   ]
  },
  {
   "cell_type": "code",
   "execution_count": 15,
   "id": "5a9d62f7",
   "metadata": {},
   "outputs": [
    {
     "name": "stdout",
     "output_type": "stream",
     "text": [
      "\n",
      "Character-Level:\n",
      "1-gram:  ['a', ' ', 'f', 'i', 's']\n",
      "2-gram:  ['a  ', '  f', 'f i', 'i s', 's h']\n",
      "3-gram:  ['a   f', '  f i', 'f i s', 'i s h', 's h  ']\n",
      "4-gram:  ['a   f i', '  f i s', 'f i s h', 'i s h  ', 's h   k']\n",
      "\n",
      "\n"
     ]
    }
   ],
   "source": [
    "print(\"\\nCharacter-Level:\")\n",
    "print(\"1-gram: \", char_gram_extractor(data, 1)[0:5])\n",
    "print(\"2-gram: \", char_gram_extractor(data, 2)[0:5])\n",
    "print(\"3-gram: \", char_gram_extractor(data, 3)[0:5])\n",
    "print(\"4-gram: \", char_gram_extractor(data, 4)[0:5])\n",
    "print(\"\\n\")"
   ]
  },
  {
   "cell_type": "markdown",
   "id": "1a5ea580",
   "metadata": {},
   "source": [
    "## Skip-Grams\n",
    "<b>While n-grams bring together contiguous sequences of words, skip-grams include grams that skip over certain terms!</b>"
   ]
  },
  {
   "cell_type": "code",
   "execution_count": 16,
   "id": "5a348f42",
   "metadata": {},
   "outputs": [],
   "source": [
    "from nltk.util import skipgrams"
   ]
  },
  {
   "cell_type": "code",
   "execution_count": 17,
   "id": "1f8bc9a2",
   "metadata": {},
   "outputs": [],
   "source": [
    "def skipgram_exrtactor(data, n, k):\n",
    "    skip_grams = skipgrams(nltk.word_tokenize(data), n, k)\n",
    "    return [' '.join(skip) for skip in skip_grams]"
   ]
  },
  {
   "cell_type": "code",
   "execution_count": 19,
   "id": "6b52b829",
   "metadata": {},
   "outputs": [
    {
     "data": {
      "text/plain": [
       "'a fish keeps for a day; a fish keeps well if you put it in a cold place. \\n          a fish keeps best if you put it in the fridge. If you’ll be having fish, \\n          have it with an apple because one apple a day keeps the doctor away! \\n          You know they also say that a day keeps coming.'"
      ]
     },
     "execution_count": 19,
     "metadata": {},
     "output_type": "execute_result"
    }
   ],
   "source": [
    "data"
   ]
  },
  {
   "cell_type": "code",
   "execution_count": 18,
   "id": "cf2b3110",
   "metadata": {},
   "outputs": [
    {
     "data": {
      "text/plain": [
       "['a fish',\n",
       " 'a keeps',\n",
       " 'a for',\n",
       " 'a a',\n",
       " 'fish keeps',\n",
       " 'fish for',\n",
       " 'fish a',\n",
       " 'fish day',\n",
       " 'keeps for',\n",
       " 'keeps a',\n",
       " 'keeps day',\n",
       " 'keeps ;',\n",
       " 'for a',\n",
       " 'for day',\n",
       " 'for ;',\n",
       " 'for a',\n",
       " 'a day',\n",
       " 'a ;',\n",
       " 'a a',\n",
       " 'a fish',\n",
       " 'day ;',\n",
       " 'day a',\n",
       " 'day fish',\n",
       " 'day keeps',\n",
       " '; a',\n",
       " '; fish',\n",
       " '; keeps',\n",
       " '; well',\n",
       " 'a fish',\n",
       " 'a keeps',\n",
       " 'a well',\n",
       " 'a if',\n",
       " 'fish keeps',\n",
       " 'fish well',\n",
       " 'fish if',\n",
       " 'fish you',\n",
       " 'keeps well',\n",
       " 'keeps if',\n",
       " 'keeps you',\n",
       " 'keeps put',\n",
       " 'well if',\n",
       " 'well you',\n",
       " 'well put',\n",
       " 'well it',\n",
       " 'if you',\n",
       " 'if put',\n",
       " 'if it',\n",
       " 'if in',\n",
       " 'you put',\n",
       " 'you it',\n",
       " 'you in',\n",
       " 'you a',\n",
       " 'put it',\n",
       " 'put in',\n",
       " 'put a',\n",
       " 'put cold',\n",
       " 'it in',\n",
       " 'it a',\n",
       " 'it cold',\n",
       " 'it place',\n",
       " 'in a',\n",
       " 'in cold',\n",
       " 'in place',\n",
       " 'in .',\n",
       " 'a cold',\n",
       " 'a place',\n",
       " 'a .',\n",
       " 'a a',\n",
       " 'cold place',\n",
       " 'cold .',\n",
       " 'cold a',\n",
       " 'cold fish',\n",
       " 'place .',\n",
       " 'place a',\n",
       " 'place fish',\n",
       " 'place keeps',\n",
       " '. a',\n",
       " '. fish',\n",
       " '. keeps',\n",
       " '. best',\n",
       " 'a fish',\n",
       " 'a keeps',\n",
       " 'a best',\n",
       " 'a if',\n",
       " 'fish keeps',\n",
       " 'fish best',\n",
       " 'fish if',\n",
       " 'fish you',\n",
       " 'keeps best',\n",
       " 'keeps if',\n",
       " 'keeps you',\n",
       " 'keeps put',\n",
       " 'best if',\n",
       " 'best you',\n",
       " 'best put',\n",
       " 'best it',\n",
       " 'if you',\n",
       " 'if put',\n",
       " 'if it',\n",
       " 'if in',\n",
       " 'you put',\n",
       " 'you it',\n",
       " 'you in',\n",
       " 'you the',\n",
       " 'put it',\n",
       " 'put in',\n",
       " 'put the',\n",
       " 'put fridge',\n",
       " 'it in',\n",
       " 'it the',\n",
       " 'it fridge',\n",
       " 'it .',\n",
       " 'in the',\n",
       " 'in fridge',\n",
       " 'in .',\n",
       " 'in If',\n",
       " 'the fridge',\n",
       " 'the .',\n",
       " 'the If',\n",
       " 'the you',\n",
       " 'fridge .',\n",
       " 'fridge If',\n",
       " 'fridge you',\n",
       " 'fridge ’',\n",
       " '. If',\n",
       " '. you',\n",
       " '. ’',\n",
       " '. ll',\n",
       " 'If you',\n",
       " 'If ’',\n",
       " 'If ll',\n",
       " 'If be',\n",
       " 'you ’',\n",
       " 'you ll',\n",
       " 'you be',\n",
       " 'you having',\n",
       " '’ ll',\n",
       " '’ be',\n",
       " '’ having',\n",
       " '’ fish',\n",
       " 'll be',\n",
       " 'll having',\n",
       " 'll fish',\n",
       " 'll ,',\n",
       " 'be having',\n",
       " 'be fish',\n",
       " 'be ,',\n",
       " 'be have',\n",
       " 'having fish',\n",
       " 'having ,',\n",
       " 'having have',\n",
       " 'having it',\n",
       " 'fish ,',\n",
       " 'fish have',\n",
       " 'fish it',\n",
       " 'fish with',\n",
       " ', have',\n",
       " ', it',\n",
       " ', with',\n",
       " ', an',\n",
       " 'have it',\n",
       " 'have with',\n",
       " 'have an',\n",
       " 'have apple',\n",
       " 'it with',\n",
       " 'it an',\n",
       " 'it apple',\n",
       " 'it because',\n",
       " 'with an',\n",
       " 'with apple',\n",
       " 'with because',\n",
       " 'with one',\n",
       " 'an apple',\n",
       " 'an because',\n",
       " 'an one',\n",
       " 'an apple',\n",
       " 'apple because',\n",
       " 'apple one',\n",
       " 'apple apple',\n",
       " 'apple a',\n",
       " 'because one',\n",
       " 'because apple',\n",
       " 'because a',\n",
       " 'because day',\n",
       " 'one apple',\n",
       " 'one a',\n",
       " 'one day',\n",
       " 'one keeps',\n",
       " 'apple a',\n",
       " 'apple day',\n",
       " 'apple keeps',\n",
       " 'apple the',\n",
       " 'a day',\n",
       " 'a keeps',\n",
       " 'a the',\n",
       " 'a doctor',\n",
       " 'day keeps',\n",
       " 'day the',\n",
       " 'day doctor',\n",
       " 'day away',\n",
       " 'keeps the',\n",
       " 'keeps doctor',\n",
       " 'keeps away',\n",
       " 'keeps !',\n",
       " 'the doctor',\n",
       " 'the away',\n",
       " 'the !',\n",
       " 'the You',\n",
       " 'doctor away',\n",
       " 'doctor !',\n",
       " 'doctor You',\n",
       " 'doctor know',\n",
       " 'away !',\n",
       " 'away You',\n",
       " 'away know',\n",
       " 'away they',\n",
       " '! You',\n",
       " '! know',\n",
       " '! they',\n",
       " '! also',\n",
       " 'You know',\n",
       " 'You they',\n",
       " 'You also',\n",
       " 'You say',\n",
       " 'know they',\n",
       " 'know also',\n",
       " 'know say',\n",
       " 'know that',\n",
       " 'they also',\n",
       " 'they say',\n",
       " 'they that',\n",
       " 'they a',\n",
       " 'also say',\n",
       " 'also that',\n",
       " 'also a',\n",
       " 'also day',\n",
       " 'say that',\n",
       " 'say a',\n",
       " 'say day',\n",
       " 'say keeps',\n",
       " 'that a',\n",
       " 'that day',\n",
       " 'that keeps',\n",
       " 'that coming',\n",
       " 'a day',\n",
       " 'a keeps',\n",
       " 'a coming',\n",
       " 'a .',\n",
       " 'day keeps',\n",
       " 'day coming',\n",
       " 'day .',\n",
       " 'keeps coming',\n",
       " 'keeps .',\n",
       " 'coming .']"
      ]
     },
     "execution_count": 18,
     "metadata": {},
     "output_type": "execute_result"
    }
   ],
   "source": [
    "skipgram_exrtactor(data, 2, 3)"
   ]
  },
  {
   "cell_type": "markdown",
   "id": "2a35c120",
   "metadata": {},
   "source": [
    "## Language Models\n",
    "A language model refers to any method that assign probabilities to strings.\n",
    "Let's try to develop a more concrete understanding of language models by building a simple one together. More specifically, <b>let's build a model that tries to predict the next word in a sentence, given the last word we saw</b>. One approach to accomplish this is to simply count, for each unique word, what words tend to follow it.\n",
    "To do that, let's start by using the extract_word_ngrams tool we showed earlier, and collect all the unique words in the corpus:"
   ]
  },
  {
   "cell_type": "code",
   "execution_count": 20,
   "id": "50f92973",
   "metadata": {},
   "outputs": [],
   "source": [
    "unigrams = gram_extractor(data, 1)"
   ]
  },
  {
   "cell_type": "code",
   "execution_count": 22,
   "id": "f0c1fe71",
   "metadata": {},
   "outputs": [
    {
     "data": {
      "text/plain": [
       "66"
      ]
     },
     "execution_count": 22,
     "metadata": {},
     "output_type": "execute_result"
    }
   ],
   "source": [
    "len(unigrams)"
   ]
  },
  {
   "cell_type": "code",
   "execution_count": 23,
   "id": "7ee62f55",
   "metadata": {},
   "outputs": [],
   "source": [
    "vocabulary = list(set(unigrams))"
   ]
  },
  {
   "cell_type": "code",
   "execution_count": 27,
   "id": "4ba76346",
   "metadata": {},
   "outputs": [
    {
     "name": "stdout",
     "output_type": "stream",
     "text": [
      "Vocabulary : n = (40)\n",
      "['it', 'If', 'the', 'place', ',', 'in', 'well', 'best', 'coming', 'an', '!', 'also', 'doctor', 'having', 'away', 'say', 'be', 'll', 'apple', 'know', 'keeps', 'fish', 'if', '’', ';', 'for', 'put', '.', 'have', 'fridge', 'because', 'a', 'they', 'You', 'that', 'day', 'you', 'one', 'cold', 'with']\n"
     ]
    }
   ],
   "source": [
    "print(f\"Vocabulary : n = ({len(vocabulary)})\")\n",
    "print(vocabulary)"
   ]
  },
  {
   "cell_type": "markdown",
   "id": "328a3238",
   "metadata": {},
   "source": [
    "### Now that we have a list of the words, lets initialize a JSON object called counts that will keep track of the next word, given the current word."
   ]
  },
  {
   "cell_type": "code",
   "execution_count": 28,
   "id": "d4986717",
   "metadata": {},
   "outputs": [],
   "source": [
    "counts = {}\n",
    "for given_word in vocabulary:\n",
    "    counts[given_word] = {}\n",
    "    for next_word in vocabulary:\n",
    "        counts[given_word][next_word] = 0"
   ]
  },
  {
   "cell_type": "code",
   "execution_count": 30,
   "id": "85021ed8",
   "metadata": {},
   "outputs": [
    {
     "data": {
      "text/plain": [
       "{'it': 0,\n",
       " 'If': 0,\n",
       " 'the': 0,\n",
       " 'place': 0,\n",
       " ',': 0,\n",
       " 'in': 0,\n",
       " 'well': 0,\n",
       " 'best': 0,\n",
       " 'coming': 0,\n",
       " 'an': 0,\n",
       " '!': 0,\n",
       " 'also': 0,\n",
       " 'doctor': 0,\n",
       " 'having': 0,\n",
       " 'away': 0,\n",
       " 'say': 0,\n",
       " 'be': 0,\n",
       " 'll': 0,\n",
       " 'apple': 0,\n",
       " 'know': 0,\n",
       " 'keeps': 0,\n",
       " 'fish': 0,\n",
       " 'if': 0,\n",
       " '’': 0,\n",
       " ';': 0,\n",
       " 'for': 0,\n",
       " 'put': 0,\n",
       " '.': 0,\n",
       " 'have': 0,\n",
       " 'fridge': 0,\n",
       " 'because': 0,\n",
       " 'a': 0,\n",
       " 'they': 0,\n",
       " 'You': 0,\n",
       " 'that': 0,\n",
       " 'day': 0,\n",
       " 'you': 0,\n",
       " 'one': 0,\n",
       " 'cold': 0,\n",
       " 'with': 0}"
      ]
     },
     "execution_count": 30,
     "metadata": {},
     "output_type": "execute_result"
    }
   ],
   "source": [
    "counts['fish']"
   ]
  },
  {
   "cell_type": "code",
   "execution_count": 40,
   "id": "bf4e598f",
   "metadata": {},
   "outputs": [],
   "source": [
    "for i in range(len(unigrams)-1):\n",
    "    counts[unigrams[i]][unigrams[i+1]] += 1"
   ]
  },
  {
   "cell_type": "code",
   "execution_count": 42,
   "id": "89f7cf33",
   "metadata": {},
   "outputs": [
    {
     "data": {
      "text/plain": [
       "{'it': 0,\n",
       " 'If': 0,\n",
       " 'the': 0,\n",
       " 'place': 0,\n",
       " ',': 0,\n",
       " 'in': 0,\n",
       " 'well': 0,\n",
       " 'best': 0,\n",
       " 'coming': 0,\n",
       " 'an': 0,\n",
       " '!': 0,\n",
       " 'also': 0,\n",
       " 'doctor': 0,\n",
       " 'having': 0,\n",
       " 'away': 0,\n",
       " 'say': 0,\n",
       " 'be': 0,\n",
       " 'll': 0,\n",
       " 'apple': 0,\n",
       " 'know': 0,\n",
       " 'keeps': 0,\n",
       " 'fish': 3,\n",
       " 'if': 0,\n",
       " '’': 0,\n",
       " ';': 0,\n",
       " 'for': 0,\n",
       " 'put': 0,\n",
       " '.': 0,\n",
       " 'have': 0,\n",
       " 'fridge': 0,\n",
       " 'because': 0,\n",
       " 'a': 0,\n",
       " 'they': 0,\n",
       " 'You': 0,\n",
       " 'that': 0,\n",
       " 'day': 3,\n",
       " 'you': 0,\n",
       " 'one': 0,\n",
       " 'cold': 1,\n",
       " 'with': 0}"
      ]
     },
     "execution_count": 42,
     "metadata": {},
     "output_type": "execute_result"
    }
   ],
   "source": [
    "counts['a']"
   ]
  },
  {
   "cell_type": "code",
   "execution_count": 43,
   "id": "632790d3",
   "metadata": {},
   "outputs": [],
   "source": [
    "# initialize the probabilites JSON object\n",
    "probs = {}\n",
    "for given_word in vocabulary:\n",
    "    probs[given_word] = {}\n",
    "    for next_word in vocabulary:\n",
    "        probs[given_word][next_word] = 0\n",
    "\n",
    "# convert the counts to probabilites\n",
    "for key, value in counts.items():\n",
    "    denominator = 0\n",
    "    for key2, value2 in counts[key].items():\n",
    "        denominator += value2\n",
    "\n",
    "    for key2, value2 in counts[key].items():\n",
    "        probs[key][key2] = value2 / denominator"
   ]
  },
  {
   "cell_type": "code",
   "execution_count": 45,
   "id": "0e80a272",
   "metadata": {},
   "outputs": [
    {
     "data": {
      "text/plain": [
       "{'it': 0.0,\n",
       " 'If': 0.0,\n",
       " 'the': 0.0,\n",
       " 'place': 0.0,\n",
       " ',': 0.0,\n",
       " 'in': 0.0,\n",
       " 'well': 0.0,\n",
       " 'best': 0.0,\n",
       " 'coming': 0.0,\n",
       " 'an': 0.0,\n",
       " '!': 0.0,\n",
       " 'also': 0.0,\n",
       " 'doctor': 0.0,\n",
       " 'having': 0.0,\n",
       " 'away': 0.0,\n",
       " 'say': 0.0,\n",
       " 'be': 0.0,\n",
       " 'll': 0.0,\n",
       " 'apple': 0.0,\n",
       " 'know': 0.0,\n",
       " 'keeps': 0.0,\n",
       " 'fish': 0.42857142857142855,\n",
       " 'if': 0.0,\n",
       " '’': 0.0,\n",
       " ';': 0.0,\n",
       " 'for': 0.0,\n",
       " 'put': 0.0,\n",
       " '.': 0.0,\n",
       " 'have': 0.0,\n",
       " 'fridge': 0.0,\n",
       " 'because': 0.0,\n",
       " 'a': 0.0,\n",
       " 'they': 0.0,\n",
       " 'You': 0.0,\n",
       " 'that': 0.0,\n",
       " 'day': 0.42857142857142855,\n",
       " 'you': 0.0,\n",
       " 'one': 0.0,\n",
       " 'cold': 0.14285714285714285,\n",
       " 'with': 0.0}"
      ]
     },
     "execution_count": 45,
     "metadata": {},
     "output_type": "execute_result"
    }
   ],
   "source": [
    "probs['a']"
   ]
  },
  {
   "cell_type": "markdown",
   "id": "d706d224",
   "metadata": {},
   "source": [
    "And there you have it! You have built your first data-driven language model. Congratulations! Now let's get to work doing some fun things with the language model, like simulating new sentences. Let's do that by choosing a word, and then selecting the next word in accordance to the probability given by our language model:"
   ]
  },
  {
   "cell_type": "code",
   "execution_count": 47,
   "id": "8a1d8886",
   "metadata": {},
   "outputs": [],
   "source": [
    "import numpy as np\n",
    "\n",
    "def sample_next_gram_from_language_model(probs, given_token):\n",
    "    distribution            = list(probs[given_token].values())\n",
    "    sample_from_multinomial = np.random.multinomial(1,distribution)\n",
    "    sample_index            = np.where(sample_from_multinomial==1)[0][0]\n",
    "    word_keys               = list(probs[given_token].keys())\n",
    "    next_word               = word_keys[sample_index]\n",
    "    return(next_word)\n"
   ]
  },
  {
   "cell_type": "code",
   "execution_count": 50,
   "id": "3137bdd6",
   "metadata": {},
   "outputs": [
    {
     "name": "stdout",
     "output_type": "stream",
     "text": [
      " Given the token :  a\n",
      " The next token is :  fish\n",
      "\n",
      "\n"
     ]
    }
   ],
   "source": [
    "given_token = \"a\"\n",
    "next_token  = sample_next_gram_from_language_model(probs,given_token)\n",
    "\n",
    "print(' Given the token :  ' + given_token)\n",
    "print(' The next token is :  ' + next_token)\n",
    "print('\\n')"
   ]
  },
  {
   "cell_type": "code",
   "execution_count": 56,
   "id": "205b62d5",
   "metadata": {},
   "outputs": [],
   "source": [
    "def create_new_sentence(length, seed_token):\n",
    "    tokens = [seed_token]\n",
    "    for i in range(length):\n",
    "        tokens.append(sample_next_gram_from_language_model(probs,tokens[-1]))  \n",
    "    return tokens\n",
    "      "
   ]
  },
  {
   "cell_type": "code",
   "execution_count": 59,
   "id": "f0983557",
   "metadata": {},
   "outputs": [
    {
     "name": "stdout",
     "output_type": "stream",
     "text": [
      "---------------------------------------\n",
      "a fish , have it in a fish , have it\n",
      "a day keeps the fridge . If you put it in\n",
      "a day ; a fish , have it in the fridge\n"
     ]
    }
   ],
   "source": [
    "print('---------------------------------------')\n",
    "print(' '.join(create_new_sentence(10, 'a')))\n",
    "print(' '.join(create_new_sentence(10, 'a')))\n",
    "print(' '.join(create_new_sentence(10, 'a')))"
   ]
  },
  {
   "cell_type": "code",
   "execution_count": null,
   "id": "51dbc1d9",
   "metadata": {},
   "outputs": [],
   "source": []
  },
  {
   "cell_type": "code",
   "execution_count": null,
   "id": "5ce04d92",
   "metadata": {},
   "outputs": [],
   "source": []
  }
 ],
 "metadata": {
  "kernelspec": {
   "display_name": "Python 3 (ipykernel)",
   "language": "python",
   "name": "python3"
  },
  "language_info": {
   "codemirror_mode": {
    "name": "ipython",
    "version": 3
   },
   "file_extension": ".py",
   "mimetype": "text/x-python",
   "name": "python",
   "nbconvert_exporter": "python",
   "pygments_lexer": "ipython3",
   "version": "3.9.13"
  }
 },
 "nbformat": 4,
 "nbformat_minor": 5
}
